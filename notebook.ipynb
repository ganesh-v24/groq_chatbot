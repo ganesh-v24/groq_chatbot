{
 "cells": [
  {
   "cell_type": "code",
   "execution_count": null,
   "id": "4a74e29b",
   "metadata": {
    "vscode": {
     "languageId": "plaintext"
    }
   },
   "outputs": [],
   "source": [
    "# Clone your GitHub repo into Colab\n",
    "!git clone https://github.com/ganesh-v24/groq_chatbot.git\n",
    "%cd groq_chatbot\n"
   ]
  },
  {
   "cell_type": "code",
   "execution_count": null,
   "id": "d10ec250",
   "metadata": {
    "vscode": {
     "languageId": "plaintext"
    }
   },
   "outputs": [],
   "source": [
    "# If you have a requirements.txt\n",
    "!pip install -r requirements.txt\n",
    "\n",
    "# Or install individually if needed\n",
    "# !pip install groq langchain faiss-cpu\n"
   ]
  },
  {
   "cell_type": "code",
   "execution_count": null,
   "id": "fe8c7139",
   "metadata": {
    "vscode": {
     "languageId": "plaintext"
    }
   },
   "outputs": [],
   "source": [
    "import os\n",
    "\n",
    "# Prompt for API key securely\n",
    "os.environ[\"GROQ_API_KEY\"] = input(\"Enter your Groq API key: \")\n"
   ]
  },
  {
   "cell_type": "code",
   "execution_count": null,
   "id": "0d653e68",
   "metadata": {
    "vscode": {
     "languageId": "plaintext"
    }
   },
   "outputs": [],
   "source": [
    "from chatbot import Chatbot\n",
    "from loader import load_data\n",
    "from vectorstore import create_vector_store\n",
    "from prompt import build_prompt\n"
   ]
  },
  {
   "cell_type": "code",
   "execution_count": null,
   "id": "2d6f2df3",
   "metadata": {
    "vscode": {
     "languageId": "plaintext"
    }
   },
   "outputs": [],
   "source": [
    "# Make sure your text file is in the repo or download from URL\n",
    "data = load_data(\"documents/frankenstein.txt\")  # adjust path if needed\n",
    "vectorstore = create_vector_store(data)\n",
    "chatbot = Chatbot(vectorstore=vectorstore)\n"
   ]
  },
  {
   "cell_type": "code",
   "execution_count": null,
   "id": "13866dd6",
   "metadata": {
    "vscode": {
     "languageId": "plaintext"
    }
   },
   "outputs": [],
   "source": [
    "def ask_bot():\n",
    "    while True:\n",
    "        question = input(\"You: \")\n",
    "        if question.lower() in ['exit', 'quit']:\n",
    "            break\n",
    "        answer = chatbot.ask(question)\n",
    "        print(\"Bot:\", answer)\n",
    "\n",
    "ask_bot()\n"
   ]
  }
 ],
 "metadata": {
  "language_info": {
   "name": "python"
  }
 },
 "nbformat": 4,
 "nbformat_minor": 5
}
